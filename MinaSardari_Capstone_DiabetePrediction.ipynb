{
  "nbformat": 4,
  "nbformat_minor": 0,
  "metadata": {
    "colab": {
      "provenance": []
    },
    "kernelspec": {
      "name": "python3",
      "display_name": "Python 3"
    },
    "language_info": {
      "name": "python"
    }
  },
  "cells": [
    {
      "cell_type": "code",
      "execution_count": null,
      "metadata": {
        "id": "uhxzu9DHj_Lw"
      },
      "outputs": [],
      "source": []
    },
    {
      "cell_type": "markdown",
      "source": [
        "# Capstone Project: Diabete PRediction\n",
        "\n",
        "**Overview**: In this project my goal is"
      ],
      "metadata": {
        "id": "M6NYPz57k2kM"
      }
    },
    {
      "cell_type": "markdown",
      "source": [
        "### **Getting Started**\n",
        "\n",
        "Our dataset comes from  *italicized text*"
      ],
      "metadata": {
        "id": "jnLsTROalDOl"
      }
    }
  ]
}